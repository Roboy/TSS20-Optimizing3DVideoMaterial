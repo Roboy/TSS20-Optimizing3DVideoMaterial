{
 "cells": [
  {
   "cell_type": "markdown",
   "metadata": {
    "pycharm": {
     "name": "#%% md\n"
    }
   },
   "source": [
    "The training data gets automatically downloaded when the training is startet for the first time, but the images are in in their original size. As the RoboyGAN increases the size by a multiply of four. Each image has to be scaled and cropped.\n",
    "The resolution used in my MA was 2048x1024 for HR and 512x256 for LR."
   ]
  },
  {
   "cell_type": "code",
   "execution_count": null,
   "outputs": [],
   "source": [
    "path=\"Examples/div2k/images/DIV2K_valid_HR/\""
   ],
   "metadata": {
    "collapsed": false,
    "pycharm": {
     "name": "#%%\n"
    }
   }
  },
  {
   "cell_type": "code",
   "execution_count": 5,
   "metadata": {},
   "outputs": [],
   "source": [
    "path=\"Examples/div2k/images/DIV2K_valid_LR_bicubic//X4/\"\n",
    "from PIL import Image\n",
    "import os\n",
    "from numpy import asarray\n",
    "import numpy as np\n",
    "\n",
    "files = os.listdir(path)\n",
    "\n",
    "images = []\n",
    "for file in files:\n",
    "    img_path = os.path.join(path,file)\n",
    "    img = Image.open(img_path)\n",
    "    print(f'{file} has original size {img.size}')\n",
    "    X = img.size[0]-512\n",
    "    Y = img.size[1]-256\n",
    "    crop = (X/2,Y/2,img.size[0]-X/2,img.size[1]-Y/2)\n",
    "    img = img.crop(crop) #corrected\n",
    "    img.save(img_path)\n",
    "    #img = asarray(img)\n",
    "    #images.append(img)\n"
   ]
  },
  {
   "cell_type": "code",
   "execution_count": 9,
   "metadata": {
    "scrolled": false
   },
   "outputs": [
    {
     "name": "stdout",
     "output_type": "stream",
     "text": [
      "0801x4.png has original size (510, 339)\n",
      "0802x4.png has original size (510, 339)\n",
      "0803x4.png has original size (510, 384)\n",
      "0804x4.png has original size (510, 300)\n",
      "0805x4.png has original size (510, 384)\n",
      "0806x4.png has original size (510, 339)\n",
      "0807x4.png has original size (510, 282)\n",
      "0808x4.png has original size (510, 339)\n",
      "0809x4.png has original size (510, 339)\n",
      "0810x4.png has original size (510, 384)\n",
      "0811x4.png has original size (510, 339)\n",
      "0812x4.png has original size (510, 384)\n",
      "0813x4.png has original size (510, 366)\n",
      "0814x4.png has original size (510, 339)\n",
      "0815x4.png has original size (510, 339)\n",
      "0816x4.png has original size (510, 339)\n",
      "0817x4.png has original size (510, 384)\n",
      "0818x4.png has original size (510, 384)\n",
      "0819x4.png has original size (510, 339)\n",
      "0820x4.png has original size (510, 339)\n",
      "0821x4.png has original size (510, 339)\n",
      "0822x4.png has original size (510, 399)\n",
      "0823x4.png has original size (510, 321)\n",
      "0824x4.png has original size (510, 339)\n",
      "0825x4.png has original size (510, 339)\n",
      "0826x4.png has original size (510, 384)\n",
      "0827x4.png has original size (510, 384)\n",
      "0828x4.png has original size (510, 339)\n",
      "0829x4.png has original size (510, 339)\n",
      "0830x4.png has original size (510, 204)\n",
      "0831x4.png has original size (510, 339)\n",
      "0832x4.png has original size (510, 339)\n",
      "0833x4.png has original size (510, 387)\n",
      "0834x4.png has original size (510, 339)\n",
      "0835x4.png has original size (405, 510)\n",
      "0836x4.png has original size (510, 384)\n",
      "0837x4.png has original size (510, 339)\n",
      "0838x4.png has original size (510, 339)\n",
      "0839x4.png has original size (510, 339)\n",
      "0840x4.png has original size (510, 339)\n",
      "0841x4.png has original size (510, 339)\n",
      "0842x4.png has original size (510, 339)\n",
      "0843x4.png has original size (510, 339)\n",
      "0844x4.png has original size (339, 510)\n",
      "0845x4.png has original size (510, 339)\n",
      "0846x4.png has original size (510, 342)\n",
      "0847x4.png has original size (339, 510)\n",
      "0848x4.png has original size (510, 384)\n",
      "0849x4.png has original size (510, 339)\n",
      "0850x4.png has original size (510, 339)\n",
      "0851x4.png has original size (510, 336)\n",
      "0852x4.png has original size (510, 288)\n",
      "0853x4.png has original size (510, 339)\n",
      "0854x4.png has original size (510, 267)\n",
      "0855x4.png has original size (510, 510)\n",
      "0856x4.png has original size (510, 339)\n",
      "0857x4.png has original size (510, 354)\n",
      "0858x4.png has original size (510, 339)\n",
      "0859x4.png has original size (510, 339)\n",
      "0860x4.png has original size (510, 384)\n",
      "0861x4.png has original size (510, 339)\n",
      "0862x4.png has original size (510, 339)\n",
      "0863x4.png has original size (375, 510)\n",
      "0864x4.png has original size (510, 339)\n",
      "0865x4.png has original size (510, 384)\n",
      "0866x4.png has original size (339, 510)\n",
      "0867x4.png has original size (339, 510)\n",
      "0868x4.png has original size (510, 339)\n",
      "0869x4.png has original size (339, 510)\n",
      "0870x4.png has original size (510, 393)\n",
      "0871x4.png has original size (510, 339)\n",
      "0872x4.png has original size (510, 339)\n",
      "0873x4.png has original size (510, 339)\n",
      "0874x4.png has original size (510, 339)\n",
      "0875x4.png has original size (510, 384)\n",
      "0876x4.png has original size (510, 339)\n",
      "0877x4.png has original size (510, 288)\n",
      "0878x4.png has original size (510, 435)\n",
      "0879x4.png has original size (510, 468)\n",
      "0880x4.png has original size (339, 510)\n",
      "0881x4.png has original size (510, 315)\n",
      "0882x4.png has original size (510, 339)\n",
      "0883x4.png has original size (510, 345)\n",
      "0884x4.png has original size (510, 339)\n",
      "0885x4.png has original size (510, 339)\n",
      "0886x4.png has original size (510, 339)\n",
      "0887x4.png has original size (510, 339)\n",
      "0888x4.png has original size (510, 339)\n",
      "0889x4.png has original size (510, 339)\n",
      "0890x4.png has original size (510, 342)\n",
      "0891x4.png has original size (417, 510)\n",
      "0892x4.png has original size (510, 321)\n",
      "0893x4.png has original size (510, 339)\n",
      "0894x4.png has original size (339, 510)\n",
      "0895x4.png has original size (510, 321)\n",
      "0896x4.png has original size (510, 339)\n",
      "0897x4.png has original size (510, 342)\n",
      "0898x4.png has original size (510, 339)\n",
      "0899x4.png has original size (510, 339)\n",
      "0900x4.png has original size (510, 288)\n"
     ]
    }
   ],
   "source": [
    "path=\"Examples/div2k/images/DIV2K_valid_LR_bicubic//X4/\"\n",
    "from PIL import Image\n",
    "import os\n",
    "from numpy import asarray\n",
    "import numpy as np\n",
    "\n",
    "files = os.listdir(path)\n",
    "\n",
    "images = []\n",
    "for file in files:\n",
    "    img_path = os.path.join(path,file)\n",
    "    img = Image.open(img_path)\n",
    "    print(f'{file} has original size {img.size}')\n",
    "    X = img.size[0]-512\n",
    "    Y = img.size[1]-256\n",
    "    crop = (X/2,Y/2,img.size[0]-X/2,img.size[1]-Y/2)\n",
    "    img = img.crop(crop) #corrected\n",
    "    img.save(img_path)\n",
    "    #img = asarray(img)\n",
    "    #images.append(img)\n"
   ]
  },
  {
   "cell_type": "code",
   "execution_count": 39,
   "metadata": {},
   "outputs": [
    {
     "name": "stdout",
     "output_type": "stream",
     "text": [
      "Examples/div2k/images/DIV2K_train_HR/01tmp.png\n",
      "(2040, 1404)\n",
      "60.0 190.0\n",
      "(1920, 1024)\n"
     ]
    }
   ],
   "source": [
    "img_path = path\n",
    "print(img_path)\n",
    "img = Image.open(img_path)\n",
    "print(img.size)\n",
    "X = img.size[0]-1920\n",
    "Y = img.size[1]-1024\n",
    "print(X/2,Y/2)\n",
    "\n",
    "img.show()\n",
    "print(img.size)"
   ]
  },
  {
   "cell_type": "code",
   "execution_count": 16,
   "metadata": {},
   "outputs": [
    {
     "name": "stdout",
     "output_type": "stream",
     "text": [
      "(800, 1024, 1920, 3)\n"
     ]
    }
   ],
   "source": [
    "images = np.array(images)\n",
    "print(images.shape)"
   ]
  },
  {
   "cell_type": "code",
   "execution_count": 17,
   "metadata": {},
   "outputs": [
    {
     "name": "stdout",
     "output_type": "stream",
     "text": [
      "(1024, 1920, 3)\n"
     ]
    }
   ],
   "source": [
    "print(images[0].shape)"
   ]
  },
  {
   "cell_type": "code",
   "execution_count": 5,
   "metadata": {},
   "outputs": [],
   "source": [
    "import cv2"
   ]
  },
  {
   "cell_type": "code",
   "execution_count": null,
   "metadata": {
    "pycharm": {
     "name": "#%%\n"
    },
    "scrolled": false
   },
   "outputs": [],
   "source": [
    "\n",
    "path = \"Examples/div2k/images/DIVK_valid/X4/\"\n",
    "for i,img in enumerate(images):\n",
    "    file = f'{(i+801):04d}x4.png'\n",
    "    img_path = os.path.join(path,file)\n",
    "    print(img_path)\n",
    "    img = cv2.resize(img,(480,270),interpolation=cv2.INTER_CUBIC)\n",
    "    img = cv2.cvtColor(img, cv2.COLOR_BGR2RGB)\n",
    "    cv2.imwrite(img_path,img)\n"
   ]
  }
 ],
 "metadata": {
  "kernelspec": {
   "display_name": "Python 3",
   "language": "python",
   "name": "python3"
  },
  "language_info": {
   "codemirror_mode": {
    "name": "ipython",
    "version": 3
   },
   "file_extension": ".py",
   "mimetype": "text/x-python",
   "name": "python",
   "nbconvert_exporter": "python",
   "pygments_lexer": "ipython3",
   "version": "3.8.2"
  }
 },
 "nbformat": 4,
 "nbformat_minor": 4
}