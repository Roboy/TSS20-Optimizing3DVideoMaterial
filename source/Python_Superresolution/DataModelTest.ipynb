{
 "cells": [
  {
   "cell_type": "code",
   "execution_count": null,
   "metadata": {
    "pycharm": {
     "name": "#%%\n"
    }
   },
   "outputs": [],
   "source": [
    "import os\n",
    "import matplotlib.pyplot as plt\n",
    "%matplotlib inline\n",
    "from PIL import Image\n",
    "import os\n",
    "from numpy import asarray\n",
    "import numpy as np\n",
    "import tensorflow as tf"
   ]
  },
  {
   "cell_type": "code",
   "execution_count": null,
   "metadata": {
    "pycharm": {
     "name": "#%%\n"
    }
   },
   "outputs": [],
   "source": [
    "weights_path = '../Examples/PreTrained/'\n",
    "from model_custom import Trainer\n",
    "from utils import Utils\n",
    "util = Utils()\n",
    "trainer = Trainer(util, 128)\n",
    "trainer.load_checkpoint(weights_path)\n"
   ]
  },
  {
   "cell_type": "code",
   "execution_count": null,
   "metadata": {
    "pycharm": {
     "name": "#%%\n"
    }
   },
   "outputs": [],
   "source": [
    "from data import DIV2K\n",
    "div2k_train = DIV2K(subset='train')\n",
    "div2k_valid = DIV2K(subset='valid')"
   ]
  },
  {
   "cell_type": "code",
   "execution_count": null,
   "metadata": {
    "pycharm": {
     "name": "#%%\n"
    }
   },
   "outputs": [],
   "source": [
    "train_ds = div2k_train.dataset(batch_size=1, random_transform=True)\n",
    "valid_ds = div2k_valid.dataset(batch_size=1, random_transform=True, repeat_count=1)"
   ]
  },
  {
   "cell_type": "code",
   "execution_count": null,
   "metadata": {
    "pycharm": {
     "name": "#%%\n"
    }
   },
   "outputs": [],
   "source": [
    "def load_image(path):\n",
    "    return np.array(Image.open(path))"
   ]
  },
  {
   "cell_type": "code",
   "execution_count": null,
   "metadata": {
    "pycharm": {
     "name": "#%%\n"
    }
   },
   "outputs": [],
   "source": [
    "def resize_np_img(image, new_size):\n",
    "    return tf.image.resize(image, new_size)"
   ]
  },
  {
   "cell_type": "code",
   "execution_count": null,
   "metadata": {
    "pycharm": {
     "name": "#%%\n"
    }
   },
   "outputs": [],
   "source": [
    "%%time\n",
    "import cv2\n",
    "def resize_image_bicubic(image, new_size):\n",
    "    return cv2.resize(image,new_size,cv2.INTER_CUBIC)"
   ]
  },
  {
   "cell_type": "code",
   "execution_count": null,
   "metadata": {
    "pycharm": {
     "name": "#%%\n"
    }
   },
   "outputs": [],
   "source": [
    "%%time\n",
    "import cv2\n",
    "def resize_image_linear(image, new_size):\n",
    "    return cv2.resize(image,new_size,cv2.INTER_LINEAR)"
   ]
  },
  {
   "cell_type": "code",
   "execution_count": null,
   "metadata": {
    "pycharm": {
     "name": "#%%\n"
    }
   },
   "outputs": [],
   "source": [
    "def resolve_single(model, lr):\n",
    "    return resolve(model, tf.expand_dims(lr, axis=0))[0]"
   ]
  },
  {
   "cell_type": "code",
   "execution_count": null,
   "metadata": {
    "pycharm": {
     "name": "#%%\n"
    }
   },
   "outputs": [],
   "source": [
    "def resolve(model, lr_batch):\n",
    "    lr_batch = tf.cast(lr_batch, tf.float32)\n",
    "    sr_batch = model(lr_batch)\n",
    "    sr_batch = tf.clip_by_value(sr_batch, 0, 255)\n",
    "    sr_batch = tf.round(sr_batch)\n",
    "    sr_batch = tf.cast(sr_batch, tf.uint8)\n",
    "    return sr_batch"
   ]
  },
  {
   "cell_type": "code",
   "execution_count": null,
   "metadata": {
    "pycharm": {
     "name": "#%%\n"
    }
   },
   "outputs": [],
   "source": [
    "import numpy as np\n",
    "def resolve_and_plot(lr,hr):\n",
    "    print(lr.shape)\n",
    "    print(hr.shape)\n",
    "    lr_4 = tf.expand_dims(lr, axis=0)\n",
    "    gan_sr = trainer.generator(lr_4)[0]\n",
    "    gan_sr = np.array(gan_sr,dtype='uint8')\n",
    "\n",
    "\n",
    "    gan_sr = np.array(gan_sr,dtype='uint8')\n",
    "    lr_cubic = resize_image_bicubic(lr,(2048,1024))\n",
    "    lr_linear = resize_image_linear(lr,(2048,1024))\n",
    "\n",
    "    linear_psnr = tf.image.psnr(lr_linear, hr, 255).numpy()\n",
    "    cubic_psnr = tf.image.psnr(lr_cubic, hr, 255).numpy()\n",
    "    gan_psnr = tf.image.psnr(gan_sr, hr, 255).numpy()\n",
    "    hr_psnr = tf.image.psnr(hr, hr, 255).numpy()\n",
    "\n",
    "    linear_ssim = tf.image.ssim(lr_linear, hr, 255).numpy()\n",
    "    cubic_ssim = tf.image.ssim(lr_cubic, hr, 255).numpy()\n",
    "    gan_ssim = tf.image.ssim(gan_sr, hr, 255).numpy()\n",
    "    hr_ssim= tf.image.ssim(hr, hr, 255).numpy()\n",
    "\n",
    "\n",
    "    images = [lr_linear, lr_cubic,gan_sr,hr]\n",
    "    titles = ['LINEAR','BICUBIC','GAN','HR']\n",
    "    psnrs = [linear_psnr,cubic_psnr,gan_psnr,hr_psnr]\n",
    "    ssims = [linear_ssim,cubic_ssim,gan_ssim,hr_ssim]\n",
    "    positions = [1, 2, 3, 4]\n",
    "\n",
    "    plt.figure(figsize=(45, 30))\n",
    "    for i, (img, title,psnr,ssim, pos) in enumerate(zip(images, titles, psnrs, ssims, positions)):\n",
    "        plt.subplot(2, 2, pos)\n",
    "        plt.imshow(img/255)\n",
    "        plt.title(f\"{title}, psnr: {psnr:.2f}, ssmim: {ssim:.2f}\", fontsize=20)\n",
    "        plt.xticks([])\n",
    "        plt.yticks([])"
   ]
  },
  {
   "cell_type": "code",
   "execution_count": null,
   "metadata": {
    "pycharm": {
     "name": "#%%\n"
    }
   },
   "outputs": [],
   "source": [
    "def resolve_and_show(lr_image_path,hr_image_path):\n",
    "    lr = load_image(lr_image_path)\n",
    "    hr = load_image(hr_image_path)\n",
    "    resolve_and_plot(lr,hr)\n"
   ]
  },
  {
   "cell_type": "code",
   "execution_count": null,
   "metadata": {
    "pycharm": {
     "name": "#%%\n"
    }
   },
   "outputs": [],
   "source": [
    "resolve_and_show(\"../Examples/div2k/images/DIV2K_valid_LR_bicubic/X4/0818x4.png\",\"../Examples/div2k/images/DIV2K_valid_HR/0818.png\")"
   ]
  },
  {
   "cell_type": "code",
   "execution_count": null,
   "metadata": {
    "pycharm": {
     "name": "#%%\n"
    }
   },
   "outputs": [],
   "source": []
  }
 ],
 "metadata": {
  "kernelspec": {
   "display_name": "Python 3",
   "language": "python",
   "name": "python3"
  },
  "language_info": {
   "codemirror_mode": {
    "name": "ipython",
    "version": 3
   },
   "file_extension": ".py",
   "mimetype": "text/x-python",
   "name": "python",
   "nbconvert_exporter": "python",
   "pygments_lexer": "ipython3",
   "version": "3.8.2"
  }
 },
 "nbformat": 4,
 "nbformat_minor": 4
}
